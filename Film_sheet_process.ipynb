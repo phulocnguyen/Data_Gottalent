{
 "cells": [
  {
   "cell_type": "code",
   "execution_count": 1,
   "id": "c9735fb3-ee12-4f50-b3dc-36262a5f317d",
   "metadata": {},
   "outputs": [],
   "source": [
    "import pandas as pd"
   ]
  },
  {
   "cell_type": "code",
   "execution_count": 2,
   "id": "dae734bf-dde1-44d8-b651-840185a43a19",
   "metadata": {},
   "outputs": [],
   "source": [
    "xlsx_file = pd.ExcelFile('Data/rawdata.xlsx')"
   ]
  },
  {
   "cell_type": "code",
   "execution_count": 3,
   "id": "c022f11d-38bb-41e1-9479-6a5f42abd873",
   "metadata": {},
   "outputs": [],
   "source": [
    "df_map = {}\n",
    "for sheet_name in xlsx_file.sheet_names:\n",
    "    df_map[sheet_name] = xlsx_file.parse(sheet_name)\n",
    "\n",
    "#df_map include 'readme','customer','ticket,'film'"
   ]
  },
  {
   "cell_type": "code",
   "execution_count": 4,
   "id": "afa3feb4-1480-489a-b92f-5e9391a83902",
   "metadata": {},
   "outputs": [
    {
     "name": "stdout",
     "output_type": "stream",
     "text": [
      "['AVENGERS: HỒI KẾT' 'JOHN WICK 3: CHUẨN BỊ CHIẾN TRANH (C18)'\n",
      " 'NGÔI ĐỀN KỲ QUÁI (C18)' 'VÔ GIAN ĐẠO (C18)'\n",
      " 'MẸ MA THAN KHÓC LA LLORONA (C18)' 'ALADDIN (PD) (G)'\n",
      " 'POKÉMON: THÁM TỬ PIKACHU (C13)' 'ALADDIN (LT) (G)' 'THẰNG EM LÝ TƯỞNG'\n",
      " 'ƯỚC HẸN MÙA THU' 'QUÝ CÔ LỪA ĐẢO'\n",
      " 'CHÚA TỂ GODZILLA: ĐẾ VƯƠNG BẤT TỬ (C13)'\n",
      " '(LT) DORAEMON: NOBITA VÀ MẶT TRĂNG PHIÊU LƯU KÝ (G)'\n",
      " 'LẬT MẶT: NHÀ CÓ KHÁCH' 'VỢ BA' 'NỤ HÔN MA QUÁI (C18)'\n",
      " '(PĐ) DORAEMON: NOBITA VÀ MẶT TRĂNG PHIÊU LƯU KÝ (G)'\n",
      " 'CORGI: NHỮNG CHÚ CHÓ HOÀNG GIA (LT)' 'CÀ CHỚN ANH ĐỪNG ĐI']\n"
     ]
    }
   ],
   "source": [
    "print(df_map['ticket']['film'].unique())"
   ]
  },
  {
   "cell_type": "code",
   "execution_count": 5,
   "id": "60fe4276-6306-4b04-8b74-2f2ee17bc289",
   "metadata": {},
   "outputs": [],
   "source": [
    "film_name=list(df_map['ticket']['film'])"
   ]
  },
  {
   "cell_type": "code",
   "execution_count": 6,
   "id": "4a75806a-ac3b-4541-a812-ac46a5c4cfd1",
   "metadata": {
    "scrolled": true
   },
   "outputs": [],
   "source": [
    "# Remove residuals\n",
    "for index in range(len(film_name)):\n",
    "    if \"(LT)\" in film_name[index]:\n",
    "        temp = film_name[index].replace(\"(LT)\",\"\")\n",
    "        film_name[index] = temp.strip()\n",
    "    if \"(PĐ)\" in film_name[index]:\n",
    "        temp = film_name[index].replace(\"(PĐ)\",\"\")\n",
    "        film_name[index] = temp.strip()\n",
    "    if \"(G)\" in film_name[index]:\n",
    "        temp = film_name[index].replace(\"(G)\",\"\")\n",
    "        film_name[index] = temp.strip()\n",
    "    if \"(C18)\" in film_name[index]:\n",
    "        temp = film_name[index].replace(\"(C18)\",\"\")\n",
    "        film_name[index] = temp.strip()\n",
    "    if \"(C13)\" in film_name[index]:\n",
    "        temp = film_name[index].replace(\"(C13)\",\"\")\n",
    "        film_name[index] = temp.strip()\n",
    "    if \"(PD)\" in film_name[index]:\n",
    "        temp = film_name[index].replace(\"(PD)\",\"\")\n",
    "        film_name[index] = temp.strip()"
   ]
  },
  {
   "cell_type": "code",
   "execution_count": 7,
   "id": "404fea1d-6390-4475-a879-e7bcd8d4e3e1",
   "metadata": {},
   "outputs": [
    {
     "name": "stdout",
     "output_type": "stream",
     "text": [
      "{'CORGI: NHỮNG CHÚ CHÓ HOÀNG GIA', 'POKÉMON: THÁM TỬ PIKACHU', 'JOHN WICK 3: CHUẨN BỊ CHIẾN TRANH', 'THẰNG EM LÝ TƯỞNG', 'ƯỚC HẸN MÙA THU', 'CHÚA TỂ GODZILLA: ĐẾ VƯƠNG BẤT TỬ', 'CÀ CHỚN ANH ĐỪNG ĐI', 'DORAEMON: NOBITA VÀ MẶT TRĂNG PHIÊU LƯU KÝ', 'NGÔI ĐỀN KỲ QUÁI', 'VỢ BA', 'AVENGERS: HỒI KẾT', 'LẬT MẶT: NHÀ CÓ KHÁCH', 'QUÝ CÔ LỪA ĐẢO', 'ALADDIN', 'VÔ GIAN ĐẠO', 'NỤ HÔN MA QUÁI', 'MẸ MA THAN KHÓC LA LLORONA'}\n"
     ]
    }
   ],
   "source": [
    "print(set(film_name))"
   ]
  },
  {
   "cell_type": "code",
   "execution_count": 8,
   "id": "518d79c7-25f7-4a23-a983-bc051fdd801d",
   "metadata": {},
   "outputs": [],
   "source": [
    "df_map['ticket']['film']=film_name"
   ]
  },
  {
   "cell_type": "code",
   "execution_count": 9,
   "id": "aecc64d3-f656-48c4-9b27-d6b5d6fdf521",
   "metadata": {},
   "outputs": [
    {
     "data": {
      "text/html": [
       "<div>\n",
       "<style scoped>\n",
       "    .dataframe tbody tr th:only-of-type {\n",
       "        vertical-align: middle;\n",
       "    }\n",
       "\n",
       "    .dataframe tbody tr th {\n",
       "        vertical-align: top;\n",
       "    }\n",
       "\n",
       "    .dataframe thead th {\n",
       "        text-align: right;\n",
       "    }\n",
       "</style>\n",
       "<table border=\"1\" class=\"dataframe\">\n",
       "  <thead>\n",
       "    <tr style=\"text-align: right;\">\n",
       "      <th></th>\n",
       "      <th>orderid</th>\n",
       "      <th>cashier</th>\n",
       "      <th>saledate</th>\n",
       "      <th>total</th>\n",
       "      <th>customerid</th>\n",
       "      <th>ticketcode</th>\n",
       "      <th>date</th>\n",
       "      <th>time</th>\n",
       "      <th>slot</th>\n",
       "      <th>room</th>\n",
       "      <th>film</th>\n",
       "      <th>slot type</th>\n",
       "      <th>ticket type</th>\n",
       "      <th>ticket price</th>\n",
       "      <th>popcorn</th>\n",
       "    </tr>\n",
       "  </thead>\n",
       "  <tbody>\n",
       "    <tr>\n",
       "      <th>0</th>\n",
       "      <td>10006052019B0225</td>\n",
       "      <td>emp002</td>\n",
       "      <td>2019-05-06 16:40:43</td>\n",
       "      <td>90000.0</td>\n",
       "      <td>0000000014</td>\n",
       "      <td>20074925</td>\n",
       "      <td>2019-05-06</td>\n",
       "      <td>18:15:00</td>\n",
       "      <td>G04</td>\n",
       "      <td>3</td>\n",
       "      <td>AVENGERS: HỒI KẾT</td>\n",
       "      <td>ĐƠN</td>\n",
       "      <td>Thành viên</td>\n",
       "      <td>45000</td>\n",
       "      <td>Không</td>\n",
       "    </tr>\n",
       "    <tr>\n",
       "      <th>1</th>\n",
       "      <td>10006052019B0225</td>\n",
       "      <td>emp002</td>\n",
       "      <td>2019-05-06 16:40:43</td>\n",
       "      <td>90000.0</td>\n",
       "      <td>0000000014</td>\n",
       "      <td>20074924</td>\n",
       "      <td>2019-05-06</td>\n",
       "      <td>18:15:00</td>\n",
       "      <td>G03</td>\n",
       "      <td>3</td>\n",
       "      <td>AVENGERS: HỒI KẾT</td>\n",
       "      <td>ĐƠN</td>\n",
       "      <td>Thành viên</td>\n",
       "      <td>45000</td>\n",
       "      <td>Không</td>\n",
       "    </tr>\n",
       "    <tr>\n",
       "      <th>2</th>\n",
       "      <td>10022052019B0167</td>\n",
       "      <td>emp011</td>\n",
       "      <td>2019-05-22 20:30:28</td>\n",
       "      <td>90000.0</td>\n",
       "      <td>0000000034</td>\n",
       "      <td>20097042</td>\n",
       "      <td>2019-05-22</td>\n",
       "      <td>20:45:00</td>\n",
       "      <td>E04</td>\n",
       "      <td>2</td>\n",
       "      <td>JOHN WICK 3: CHUẨN BỊ CHIẾN TRANH</td>\n",
       "      <td>ĐƠN</td>\n",
       "      <td>Thành viên</td>\n",
       "      <td>45000</td>\n",
       "      <td>Không</td>\n",
       "    </tr>\n",
       "    <tr>\n",
       "      <th>3</th>\n",
       "      <td>10022052019B0167</td>\n",
       "      <td>emp011</td>\n",
       "      <td>2019-05-22 20:30:28</td>\n",
       "      <td>90000.0</td>\n",
       "      <td>0000000034</td>\n",
       "      <td>20097041</td>\n",
       "      <td>2019-05-22</td>\n",
       "      <td>20:45:00</td>\n",
       "      <td>E03</td>\n",
       "      <td>2</td>\n",
       "      <td>JOHN WICK 3: CHUẨN BỊ CHIẾN TRANH</td>\n",
       "      <td>ĐƠN</td>\n",
       "      <td>Thành viên</td>\n",
       "      <td>45000</td>\n",
       "      <td>Không</td>\n",
       "    </tr>\n",
       "    <tr>\n",
       "      <th>4</th>\n",
       "      <td>10130052019B0141</td>\n",
       "      <td>emp005</td>\n",
       "      <td>2019-05-30 19:28:44</td>\n",
       "      <td>90000.0</td>\n",
       "      <td>0000000034</td>\n",
       "      <td>20106761</td>\n",
       "      <td>2019-05-30</td>\n",
       "      <td>19:30:00</td>\n",
       "      <td>F04</td>\n",
       "      <td>1</td>\n",
       "      <td>NGÔI ĐỀN KỲ QUÁI</td>\n",
       "      <td>ĐƠN</td>\n",
       "      <td>Thành viên</td>\n",
       "      <td>45000</td>\n",
       "      <td>Không</td>\n",
       "    </tr>\n",
       "  </tbody>\n",
       "</table>\n",
       "</div>"
      ],
      "text/plain": [
       "            orderid cashier            saledate    total  customerid  \\\n",
       "0  10006052019B0225  emp002 2019-05-06 16:40:43  90000.0  0000000014   \n",
       "1  10006052019B0225  emp002 2019-05-06 16:40:43  90000.0  0000000014   \n",
       "2  10022052019B0167  emp011 2019-05-22 20:30:28  90000.0  0000000034   \n",
       "3  10022052019B0167  emp011 2019-05-22 20:30:28  90000.0  0000000034   \n",
       "4  10130052019B0141  emp005 2019-05-30 19:28:44  90000.0  0000000034   \n",
       "\n",
       "   ticketcode       date      time slot  room  \\\n",
       "0    20074925 2019-05-06  18:15:00  G04     3   \n",
       "1    20074924 2019-05-06  18:15:00  G03     3   \n",
       "2    20097042 2019-05-22  20:45:00  E04     2   \n",
       "3    20097041 2019-05-22  20:45:00  E03     2   \n",
       "4    20106761 2019-05-30  19:30:00  F04     1   \n",
       "\n",
       "                                film slot type ticket type  ticket price  \\\n",
       "0                  AVENGERS: HỒI KẾT       ĐƠN  Thành viên         45000   \n",
       "1                  AVENGERS: HỒI KẾT       ĐƠN  Thành viên         45000   \n",
       "2  JOHN WICK 3: CHUẨN BỊ CHIẾN TRANH       ĐƠN  Thành viên         45000   \n",
       "3  JOHN WICK 3: CHUẨN BỊ CHIẾN TRANH       ĐƠN  Thành viên         45000   \n",
       "4                   NGÔI ĐỀN KỲ QUÁI       ĐƠN  Thành viên         45000   \n",
       "\n",
       "  popcorn  \n",
       "0   Không  \n",
       "1   Không  \n",
       "2   Không  \n",
       "3   Không  \n",
       "4   Không  "
      ]
     },
     "execution_count": 9,
     "metadata": {},
     "output_type": "execute_result"
    }
   ],
   "source": [
    "df_map['ticket'].head()"
   ]
  },
  {
   "cell_type": "code",
   "execution_count": 10,
   "id": "877d02ad-4f4d-4fe2-88ab-51aaf9034aba",
   "metadata": {},
   "outputs": [],
   "source": [
    "df_map['ticket'].to_csv(\"ticket.csv\", index=False)"
   ]
  },
  {
   "cell_type": "code",
   "execution_count": 11,
   "id": "b8853bb9-ecf5-4316-84b7-e06f690e6e84",
   "metadata": {},
   "outputs": [],
   "source": [
    "df_map['ticket'].to_excel('ticket.xlsx', index=False)"
   ]
  },
  {
   "cell_type": "code",
   "execution_count": null,
   "id": "5b3586a0-8527-40f5-90de-f8bcde05da1e",
   "metadata": {},
   "outputs": [],
   "source": []
  }
 ],
 "metadata": {
  "kernelspec": {
   "display_name": "Python 3 (ipykernel)",
   "language": "python",
   "name": "python3"
  },
  "language_info": {
   "codemirror_mode": {
    "name": "ipython",
    "version": 3
   },
   "file_extension": ".py",
   "mimetype": "text/x-python",
   "name": "python",
   "nbconvert_exporter": "python",
   "pygments_lexer": "ipython3",
   "version": "3.10.6"
  }
 },
 "nbformat": 4,
 "nbformat_minor": 5
}
