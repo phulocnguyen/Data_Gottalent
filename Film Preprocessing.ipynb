{
 "cells": [
  {
   "cell_type": "code",
   "execution_count": 1,
   "metadata": {},
   "outputs": [],
   "source": [
    "import numpy as np\n",
    "import pandas as pd\n"
   ]
  },
  {
   "cell_type": "code",
   "execution_count": 2,
   "metadata": {},
   "outputs": [],
   "source": [
    "\n",
    "excel_file_path = 'Data/dataset.xlsx'\n",
    "\n",
    "sheet_name = 'film'  \n",
    "\n",
    "film_data = pd.read_excel(excel_file_path, sheet_name=sheet_name)\n",
    "\n",
    "df_film = pd.DataFrame(film_data)\n"
   ]
  },
  {
   "cell_type": "code",
   "execution_count": 5,
   "metadata": {},
   "outputs": [
    {
     "data": {
      "text/html": [
       "<div>\n",
       "<style scoped>\n",
       "    .dataframe tbody tr th:only-of-type {\n",
       "        vertical-align: middle;\n",
       "    }\n",
       "\n",
       "    .dataframe tbody tr th {\n",
       "        vertical-align: top;\n",
       "    }\n",
       "\n",
       "    .dataframe thead th {\n",
       "        text-align: right;\n",
       "    }\n",
       "</style>\n",
       "<table border=\"1\" class=\"dataframe\">\n",
       "  <thead>\n",
       "    <tr style=\"text-align: right;\">\n",
       "      <th></th>\n",
       "      <th>show_id</th>\n",
       "      <th>title</th>\n",
       "      <th>director</th>\n",
       "      <th>cast</th>\n",
       "      <th>country</th>\n",
       "      <th>release_year</th>\n",
       "      <th>rating</th>\n",
       "      <th>duration</th>\n",
       "      <th>listed_in</th>\n",
       "      <th>description</th>\n",
       "    </tr>\n",
       "  </thead>\n",
       "  <tbody>\n",
       "    <tr>\n",
       "      <th>0</th>\n",
       "      <td>s27</td>\n",
       "      <td>X-Men: Dark Phoenix</td>\n",
       "      <td>Simon Kinberg</td>\n",
       "      <td>James McAvoy, Michael Fassbender, Jennifer Law...</td>\n",
       "      <td>United States, Canada</td>\n",
       "      <td>2019</td>\n",
       "      <td>PG-13</td>\n",
       "      <td>115 min</td>\n",
       "      <td>Action-Adventure, Family, Science Fiction</td>\n",
       "      <td>When Jean Grey transforms into the Dark Phoeni...</td>\n",
       "    </tr>\n",
       "    <tr>\n",
       "      <th>1</th>\n",
       "      <td>s165</td>\n",
       "      <td>The Kid Who Would Be King</td>\n",
       "      <td>Joe Cornish</td>\n",
       "      <td>Louis Ashbourne Serkis, Tom Taylor, Rebecca Fe...</td>\n",
       "      <td>United Kingdom, United States</td>\n",
       "      <td>2019</td>\n",
       "      <td>PG</td>\n",
       "      <td>121 min</td>\n",
       "      <td>Action-Adventure, Coming of Age, Family</td>\n",
       "      <td>When a kid discovers the legendary sword, Exca...</td>\n",
       "    </tr>\n",
       "    <tr>\n",
       "      <th>2</th>\n",
       "      <td>s194</td>\n",
       "      <td>Disney My Music Story: Perfume</td>\n",
       "      <td>Kentaro Takayanagi</td>\n",
       "      <td>a-chan , KASHIYUKA , NOCCHi</td>\n",
       "      <td>NaN</td>\n",
       "      <td>2019</td>\n",
       "      <td>NaN</td>\n",
       "      <td>53 min</td>\n",
       "      <td>Biographical, Documentary, Music</td>\n",
       "      <td>J-Pop band Perfume shares their passion for mu...</td>\n",
       "    </tr>\n",
       "    <tr>\n",
       "      <th>3</th>\n",
       "      <td>s222</td>\n",
       "      <td>Disney My Music Story: Yoshiki</td>\n",
       "      <td>Kentaro Takayanagi</td>\n",
       "      <td>YOSHIKI</td>\n",
       "      <td>United States, Japan</td>\n",
       "      <td>2019</td>\n",
       "      <td>TV-PG</td>\n",
       "      <td>48 min</td>\n",
       "      <td>Biographical, Documentary, Music</td>\n",
       "      <td>Yoshiki from â€œX Japanâ€ performs two Disney...</td>\n",
       "    </tr>\n",
       "    <tr>\n",
       "      <th>4</th>\n",
       "      <td>s241</td>\n",
       "      <td>Great Shark Chow Down</td>\n",
       "      <td>Mark Woodward</td>\n",
       "      <td>Dan Nachtrab</td>\n",
       "      <td>NaN</td>\n",
       "      <td>2019</td>\n",
       "      <td>TV-PG</td>\n",
       "      <td>45 min</td>\n",
       "      <td>Animals &amp; Nature, Documentary</td>\n",
       "      <td>Great Shark Chow Down â€“ prepare for a feast ...</td>\n",
       "    </tr>\n",
       "  </tbody>\n",
       "</table>\n",
       "</div>"
      ],
      "text/plain": [
       "  show_id                           title            director  \\\n",
       "0     s27             X-Men: Dark Phoenix       Simon Kinberg   \n",
       "1    s165       The Kid Who Would Be King         Joe Cornish   \n",
       "2    s194  Disney My Music Story: Perfume  Kentaro Takayanagi   \n",
       "3    s222  Disney My Music Story: Yoshiki  Kentaro Takayanagi   \n",
       "4    s241           Great Shark Chow Down       Mark Woodward   \n",
       "\n",
       "                                                cast  \\\n",
       "0  James McAvoy, Michael Fassbender, Jennifer Law...   \n",
       "1  Louis Ashbourne Serkis, Tom Taylor, Rebecca Fe...   \n",
       "2                        a-chan , KASHIYUKA , NOCCHi   \n",
       "3                                            YOSHIKI   \n",
       "4                                       Dan Nachtrab   \n",
       "\n",
       "                         country  release_year rating duration  \\\n",
       "0          United States, Canada          2019  PG-13  115 min   \n",
       "1  United Kingdom, United States          2019     PG  121 min   \n",
       "2                            NaN          2019    NaN   53 min   \n",
       "3           United States, Japan          2019  TV-PG   48 min   \n",
       "4                            NaN          2019  TV-PG   45 min   \n",
       "\n",
       "                                   listed_in  \\\n",
       "0  Action-Adventure, Family, Science Fiction   \n",
       "1    Action-Adventure, Coming of Age, Family   \n",
       "2           Biographical, Documentary, Music   \n",
       "3           Biographical, Documentary, Music   \n",
       "4              Animals & Nature, Documentary   \n",
       "\n",
       "                                         description  \n",
       "0  When Jean Grey transforms into the Dark Phoeni...  \n",
       "1  When a kid discovers the legendary sword, Exca...  \n",
       "2  J-Pop band Perfume shares their passion for mu...  \n",
       "3  Yoshiki from â€œX Japanâ€ performs two Disney...  \n",
       "4  Great Shark Chow Down â€“ prepare for a feast ...  "
      ]
     },
     "execution_count": 5,
     "metadata": {},
     "output_type": "execute_result"
    }
   ],
   "source": [
    "df_film.head()"
   ]
  },
  {
   "cell_type": "code",
   "execution_count": 7,
   "metadata": {},
   "outputs": [
    {
     "ename": "SyntaxError",
     "evalue": "invalid syntax (2705414970.py, line 1)",
     "output_type": "error",
     "traceback": [
      "\u001b[1;36m  Cell \u001b[1;32mIn[7], line 1\u001b[1;36m\u001b[0m\n\u001b[1;33m    df_film['duration'] > 50 min\u001b[0m\n\u001b[1;37m                             ^\u001b[0m\n\u001b[1;31mSyntaxError\u001b[0m\u001b[1;31m:\u001b[0m invalid syntax\n"
     ]
    }
   ],
   "source": [
    "df_film['duration'] > 50 min"
   ]
  }
 ],
 "metadata": {
  "kernelspec": {
   "display_name": "Python 3",
   "language": "python",
   "name": "python3"
  },
  "language_info": {
   "codemirror_mode": {
    "name": "ipython",
    "version": 3
   },
   "file_extension": ".py",
   "mimetype": "text/x-python",
   "name": "python",
   "nbconvert_exporter": "python",
   "pygments_lexer": "ipython3",
   "version": "3.10.6"
  }
 },
 "nbformat": 4,
 "nbformat_minor": 2
}
